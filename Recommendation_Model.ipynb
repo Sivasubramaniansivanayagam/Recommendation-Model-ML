{
  "nbformat": 4,
  "nbformat_minor": 0,
  "metadata": {
    "colab": {
      "name": "Recommendation Model.ipynb",
      "provenance": [],
      "collapsed_sections": [],
      "mount_file_id": "1fBe3lDV2AeKIIudX5K7H20hkWNs4CKT7",
      "authorship_tag": "ABX9TyOHY0bYl/6hWNpHV1WtpLed",
      "include_colab_link": true
    },
    "kernelspec": {
      "name": "python3",
      "display_name": "Python 3"
    },
    "language_info": {
      "name": "python"
    }
  },
  "cells": [
    {
      "cell_type": "markdown",
      "metadata": {
        "id": "view-in-github",
        "colab_type": "text"
      },
      "source": [
        "<a href=\"https://colab.research.google.com/github/Sivasubramaniansivanayagam/Recommendation-Model-ML/blob/main/Recommendation_Model.ipynb\" target=\"_parent\"><img src=\"https://colab.research.google.com/assets/colab-badge.svg\" alt=\"Open In Colab\"/></a>"
      ]
    },
    {
      "cell_type": "code",
      "source": [
        "from google.colab import drive\n",
        "drive.mount('/content/drive')"
      ],
      "metadata": {
        "colab": {
          "base_uri": "https://localhost:8080/"
        },
        "id": "ojSUOnCoDxrw",
        "outputId": "a6f8cb0e-3004-4cc9-f634-f919b0c5709a"
      },
      "execution_count": null,
      "outputs": [
        {
          "output_type": "stream",
          "name": "stdout",
          "text": [
            "Drive already mounted at /content/drive; to attempt to forcibly remount, call drive.mount(\"/content/drive\", force_remount=True).\n"
          ]
        }
      ]
    },
    {
      "cell_type": "code",
      "source": [
        "import pandas as pd"
      ],
      "metadata": {
        "id": "V3SLR6TYEN7o"
      },
      "execution_count": null,
      "outputs": []
    },
    {
      "cell_type": "code",
      "source": [
        "# df=pd.read_csv(\"/content/drive/MyDrive/listenings.csv\",encoding=\"unicode_escape\")"
      ],
      "metadata": {
        "id": "b7ORm7dTFON2"
      },
      "execution_count": null,
      "outputs": []
    },
    {
      "cell_type": "code",
      "source": [
        "!pip install pyspark"
      ],
      "metadata": {
        "colab": {
          "base_uri": "https://localhost:8080/"
        },
        "id": "6KHbCek8FTUL",
        "outputId": "2ced52b9-49f3-46d4-c250-6e7ce4d0b1b8"
      },
      "execution_count": null,
      "outputs": [
        {
          "output_type": "stream",
          "name": "stdout",
          "text": [
            "Collecting pyspark\n",
            "  Downloading pyspark-3.2.1.tar.gz (281.4 MB)\n",
            "\u001b[K     |████████████████████████████████| 281.4 MB 33 kB/s \n",
            "\u001b[?25hCollecting py4j==0.10.9.3\n",
            "  Downloading py4j-0.10.9.3-py2.py3-none-any.whl (198 kB)\n",
            "\u001b[K     |████████████████████████████████| 198 kB 58.1 MB/s \n",
            "\u001b[?25hBuilding wheels for collected packages: pyspark\n",
            "  Building wheel for pyspark (setup.py) ... \u001b[?25l\u001b[?25hdone\n",
            "  Created wheel for pyspark: filename=pyspark-3.2.1-py2.py3-none-any.whl size=281853642 sha256=237c4021ce10e4726ed9ece4170add56afcac32d80314bb2c38792902ada1dfd\n",
            "  Stored in directory: /root/.cache/pip/wheels/9f/f5/07/7cd8017084dce4e93e84e92efd1e1d5334db05f2e83bcef74f\n",
            "Successfully built pyspark\n",
            "Installing collected packages: py4j, pyspark\n",
            "Successfully installed py4j-0.10.9.3 pyspark-3.2.1\n"
          ]
        }
      ]
    },
    {
      "cell_type": "code",
      "source": [
        "from pyspark.sql import SparkSession"
      ],
      "metadata": {
        "id": "1ryJs8DuFhtn"
      },
      "execution_count": null,
      "outputs": []
    },
    {
      "cell_type": "code",
      "source": [
        "from pyspark.sql.functions import count,desc,col,max"
      ],
      "metadata": {
        "id": "8EAj68gtG-8q"
      },
      "execution_count": null,
      "outputs": []
    },
    {
      "cell_type": "code",
      "source": [
        "\n",
        "from pyspark.ml.feature import StringIndexer"
      ],
      "metadata": {
        "id": "Yby1ntGFHehJ"
      },
      "execution_count": null,
      "outputs": []
    },
    {
      "cell_type": "code",
      "source": [
        "from pyspark.ml import Pipeline"
      ],
      "metadata": {
        "id": "NFTvvsntHoaY"
      },
      "execution_count": null,
      "outputs": []
    },
    {
      "cell_type": "code",
      "source": [
        "from pyspark.ml.recommendation import ALS # Ecommerce use\n"
      ],
      "metadata": {
        "id": "Hyqr7iQwH71F"
      },
      "execution_count": null,
      "outputs": []
    },
    {
      "cell_type": "code",
      "source": [
        "from pyspark.ml.tuning import TrainValidationSplit,ParamGridBuilder"
      ],
      "metadata": {
        "id": "7qbF39zOJCWe"
      },
      "execution_count": null,
      "outputs": []
    },
    {
      "cell_type": "code",
      "source": [
        "spark=SparkSession.builder.appName(\"trial\").getOrCreate()"
      ],
      "metadata": {
        "id": "yy6rXexAJnPp"
      },
      "execution_count": null,
      "outputs": []
    },
    {
      "cell_type": "code",
      "source": [
        "file_path=\"/content/drive/MyDrive/listenings.csv\""
      ],
      "metadata": {
        "id": "8OxoPHuUKPMh"
      },
      "execution_count": null,
      "outputs": []
    },
    {
      "cell_type": "code",
      "source": [
        "df_listenings=spark.read.format(\"csv\").option(\"header\",True).option(\"inferSchema\",True).load(file_path)"
      ],
      "metadata": {
        "id": "KlZVDNiLK3ED"
      },
      "execution_count": null,
      "outputs": []
    },
    {
      "cell_type": "code",
      "source": [
        "df_listenings.show()"
      ],
      "metadata": {
        "colab": {
          "base_uri": "https://localhost:8080/"
        },
        "id": "VO8uVBYuMFd1",
        "outputId": "bc47daa0-39c1-45e9-e19c-498ef2dfb22e"
      },
      "execution_count": null,
      "outputs": [
        {
          "output_type": "stream",
          "name": "stdout",
          "text": [
            "+-----------+-------------+--------------------+---------------+--------------------+\n",
            "|    user_id|         date|               track|         artist|               album|\n",
            "+-----------+-------------+--------------------+---------------+--------------------+\n",
            "|000Silenced|1299680100000|           Price Tag|       Jessie J|         Who You Are|\n",
            "|000Silenced|1299679920000|Price Tag (Acoust...|       Jessie J|           Price Tag|\n",
            "|000Silenced|1299679440000|Be Mine! (Ballad ...|          Robyn|            Be Mine!|\n",
            "|000Silenced|1299679200000|            Acapella|          Kelis|            Acapella|\n",
            "|000Silenced|1299675660000|   I'm Not Invisible|      The Tease|   I'm Not Invisible|\n",
            "|000Silenced|1297511400000|Bounce (Feat NORE...|       MSTRKRFT|         Fist of God|\n",
            "|000Silenced|1294498440000|Don't Stop The Mu...|        Rihanna|Addicted 2 Bassli...|\n",
            "|000Silenced|1292438340000|               ObZen|      Meshuggah|               ObZen|\n",
            "|000Silenced|1292437740000|   Yama's Messengers|         Gojira|The Way of All Flesh|\n",
            "|000Silenced|1292436360000|On the Brink of E...|   Napalm Death|Time Waits For No...|\n",
            "|000Silenced|1292436360000|On the Brink of E...|   Napalm Death|Time Waits For No...|\n",
            "|000Silenced|1292435940000|        In Deference|   Napalm Death|      Smear Campaign|\n",
            "|000Silenced|1292434920000|      Post(?)organic|    Decapitated|Organic Hallucinosis|\n",
            "|000Silenced|1292434560000|        Mind Feeders|   Dom & Roland| No Strings Attached|\n",
            "|000Silenced|1292434320000|Necrosadistic War...|Cannibal Corpse|                Kill|\n",
            "|000Silenced|1292365560000|     Dance All Night|   Dom & Roland|          Chronology|\n",
            "|000Silenced|1292365260000|          Late Night|   Dom & Roland|          Chronology|\n",
            "|000Silenced|1292365020000|          Freak Seen|   Dom & Roland|          Chronology|\n",
            "|000Silenced|1292364720000|Paradrenasite (Hi...|   Dom & Roland|          Chronology|\n",
            "|000Silenced|1292364300000|               Rhino|   Dom & Roland|          Chronology|\n",
            "+-----------+-------------+--------------------+---------------+--------------------+\n",
            "only showing top 20 rows\n",
            "\n"
          ]
        }
      ]
    },
    {
      "cell_type": "code",
      "source": [
        "number_of_rows=df_listenings.count()\n",
        "number_of_columns=len(df_listenings.columns)"
      ],
      "metadata": {
        "id": "fvNfsll8Mg2t"
      },
      "execution_count": null,
      "outputs": []
    },
    {
      "cell_type": "code",
      "source": [
        "print(number_of_rows)\n",
        "print(number_of_columns)"
      ],
      "metadata": {
        "colab": {
          "base_uri": "https://localhost:8080/"
        },
        "id": "iBvuErEZNCxt",
        "outputId": "b89ea877-1082-4776-fa43-838edae3780f"
      },
      "execution_count": null,
      "outputs": [
        {
          "output_type": "stream",
          "name": "stdout",
          "text": [
            "14650594\n",
            "5\n"
          ]
        }
      ]
    },
    {
      "cell_type": "code",
      "source": [
        "df_listenings=df_listenings.drop(\"date\")"
      ],
      "metadata": {
        "id": "7rnhp5w0NdJa"
      },
      "execution_count": null,
      "outputs": []
    },
    {
      "cell_type": "code",
      "source": [
        "df_listenings.show()"
      ],
      "metadata": {
        "colab": {
          "base_uri": "https://localhost:8080/"
        },
        "id": "fcZYkw_JOCqB",
        "outputId": "bfa29f84-91f8-4c02-9052-f71fa8fc6c01"
      },
      "execution_count": null,
      "outputs": [
        {
          "output_type": "stream",
          "name": "stdout",
          "text": [
            "+-----------+--------------------+---------------+--------------------+\n",
            "|    user_id|               track|         artist|               album|\n",
            "+-----------+--------------------+---------------+--------------------+\n",
            "|000Silenced|           Price Tag|       Jessie J|         Who You Are|\n",
            "|000Silenced|Price Tag (Acoust...|       Jessie J|           Price Tag|\n",
            "|000Silenced|Be Mine! (Ballad ...|          Robyn|            Be Mine!|\n",
            "|000Silenced|            Acapella|          Kelis|            Acapella|\n",
            "|000Silenced|   I'm Not Invisible|      The Tease|   I'm Not Invisible|\n",
            "|000Silenced|Bounce (Feat NORE...|       MSTRKRFT|         Fist of God|\n",
            "|000Silenced|Don't Stop The Mu...|        Rihanna|Addicted 2 Bassli...|\n",
            "|000Silenced|               ObZen|      Meshuggah|               ObZen|\n",
            "|000Silenced|   Yama's Messengers|         Gojira|The Way of All Flesh|\n",
            "|000Silenced|On the Brink of E...|   Napalm Death|Time Waits For No...|\n",
            "|000Silenced|On the Brink of E...|   Napalm Death|Time Waits For No...|\n",
            "|000Silenced|        In Deference|   Napalm Death|      Smear Campaign|\n",
            "|000Silenced|      Post(?)organic|    Decapitated|Organic Hallucinosis|\n",
            "|000Silenced|        Mind Feeders|   Dom & Roland| No Strings Attached|\n",
            "|000Silenced|Necrosadistic War...|Cannibal Corpse|                Kill|\n",
            "|000Silenced|     Dance All Night|   Dom & Roland|          Chronology|\n",
            "|000Silenced|          Late Night|   Dom & Roland|          Chronology|\n",
            "|000Silenced|          Freak Seen|   Dom & Roland|          Chronology|\n",
            "|000Silenced|Paradrenasite (Hi...|   Dom & Roland|          Chronology|\n",
            "|000Silenced|               Rhino|   Dom & Roland|          Chronology|\n",
            "+-----------+--------------------+---------------+--------------------+\n",
            "only showing top 20 rows\n",
            "\n"
          ]
        }
      ]
    },
    {
      "cell_type": "code",
      "source": [
        "df_listenings.distinct().count()"
      ],
      "metadata": {
        "colab": {
          "base_uri": "https://localhost:8080/"
        },
        "id": "mj-Uhq9fOFmZ",
        "outputId": "7a4b13a2-07ca-4826-f17d-6145e10ff0cb"
      },
      "execution_count": null,
      "outputs": [
        {
          "output_type": "execute_result",
          "data": {
            "text/plain": [
              "10605556"
            ]
          },
          "metadata": {},
          "execution_count": 21
        }
      ]
    },
    {
      "cell_type": "code",
      "source": [
        "df_listenings=df_listenings.na.drop()"
      ],
      "metadata": {
        "id": "tA_-hXRgOUU-"
      },
      "execution_count": null,
      "outputs": []
    },
    {
      "cell_type": "code",
      "source": [
        "number_of_rows=df_listenings.count()\n",
        "number_of_columns=len(df_listenings.columns)"
      ],
      "metadata": {
        "id": "5JTeEaZ3PC-K"
      },
      "execution_count": null,
      "outputs": []
    },
    {
      "cell_type": "code",
      "source": [
        "print(number_of_rows)\n",
        "print(number_of_columns)"
      ],
      "metadata": {
        "colab": {
          "base_uri": "https://localhost:8080/"
        },
        "id": "Amb3zENjPKDt",
        "outputId": "022115c4-9601-4af8-ae42-8b6410b65508"
      },
      "execution_count": null,
      "outputs": [
        {
          "output_type": "stream",
          "name": "stdout",
          "text": [
            "13758905\n",
            "4\n"
          ]
        }
      ]
    },
    {
      "cell_type": "code",
      "source": [
        "14650594-13758905"
      ],
      "metadata": {
        "colab": {
          "base_uri": "https://localhost:8080/"
        },
        "id": "pdGQ0MLfPR-A",
        "outputId": "75c7883d-8682-4a72-b731-d8c2c79ad77a"
      },
      "execution_count": null,
      "outputs": [
        {
          "output_type": "execute_result",
          "data": {
            "text/plain": [
              "891689"
            ]
          },
          "metadata": {},
          "execution_count": 25
        }
      ]
    },
    {
      "cell_type": "code",
      "source": [
        "df_listenings_agg=df_listenings.select('user_id','track').groupby('user_id','track').agg(count(\"*\").alias(\"count\")).orderBy('user_id')"
      ],
      "metadata": {
        "id": "yB87I968Patx"
      },
      "execution_count": null,
      "outputs": []
    },
    {
      "cell_type": "code",
      "source": [
        "df_listenings_agg.show()"
      ],
      "metadata": {
        "colab": {
          "base_uri": "https://localhost:8080/"
        },
        "id": "5HjHlCP0R5Fn",
        "outputId": "d3aae018-48b0-423b-f9e3-7da8b88aa3dd"
      },
      "execution_count": null,
      "outputs": [
        {
          "output_type": "stream",
          "name": "stdout",
          "text": [
            "+-------+--------------------+-----+\n",
            "|user_id|               track|count|\n",
            "+-------+--------------------+-----+\n",
            "| --Seph|Chelsea Hotel - L...|    1|\n",
            "| --Seph|          Paris 2004|    7|\n",
            "| --Seph|Airplanes [feat H...|    1|\n",
            "| --Seph|              Monday|    1|\n",
            "| --Seph|         The Embrace|    1|\n",
            "| --Seph|Hungarian Dance No 5|    1|\n",
            "| --Seph|       Life On Mars?|    1|\n",
            "| --Seph|Belina (Original ...|    1|\n",
            "| --Seph| White Winter Hymnal|    3|\n",
            "| --Seph|               Leloo|    1|\n",
            "| --Seph|      Hour for magic|    2|\n",
            "| --Seph|Hungarian Rhapsod...|    1|\n",
            "| --Seph|     The Way We Were|    1|\n",
            "| --Seph| Air on the G String|    1|\n",
            "| --Seph|Vestido Estampado...|    1|\n",
            "| --Seph|        Window Blues|    1|\n",
            "| --Seph|  California Waiting|    1|\n",
            "| --Seph|       Phantom Pt II|    1|\n",
            "| --Seph|Virus (Luke Fair ...|    1|\n",
            "| --Seph|   Summa for Strings|    1|\n",
            "+-------+--------------------+-----+\n",
            "only showing top 20 rows\n",
            "\n"
          ]
        }
      ]
    },
    {
      "cell_type": "code",
      "source": [
        "df_listenings_agg=df_listenings_agg.limit(20000)"
      ],
      "metadata": {
        "id": "28RO5KDtSCyN"
      },
      "execution_count": null,
      "outputs": []
    },
    {
      "cell_type": "code",
      "source": [
        "df_listenings_agg.show()"
      ],
      "metadata": {
        "colab": {
          "base_uri": "https://localhost:8080/"
        },
        "id": "wmsdNjliS2rY",
        "outputId": "a753dd81-a63c-4a58-c01a-47bb215424bb"
      },
      "execution_count": null,
      "outputs": [
        {
          "output_type": "stream",
          "name": "stdout",
          "text": [
            "+-------+--------------------+-----+\n",
            "|user_id|               track|count|\n",
            "+-------+--------------------+-----+\n",
            "| --Seph|               Leloo|    1|\n",
            "| --Seph|Virus (Luke Fair ...|    1|\n",
            "| --Seph|Airplanes [feat H...|    1|\n",
            "| --Seph|Belina (Original ...|    1|\n",
            "| --Seph|              Monday|    1|\n",
            "| --Seph|Hungarian Dance No 5|    1|\n",
            "| --Seph|       Life On Mars?|    1|\n",
            "| --Seph|  California Waiting|    1|\n",
            "| --Seph|       Phantom Pt II|    1|\n",
            "| --Seph|   Summa for Strings|    1|\n",
            "| --Seph|      Hour for magic|    2|\n",
            "| --Seph|Hungarian Rhapsod...|    1|\n",
            "| --Seph|     The Way We Were|    1|\n",
            "| --Seph| Air on the G String|    1|\n",
            "| --Seph|Vestido Estampado...|    1|\n",
            "| --Seph|        Window Blues|    1|\n",
            "| --Seph| White Winter Hymnal|    3|\n",
            "| --Seph|         The Embrace|    1|\n",
            "| --Seph|          Paris 2004|    7|\n",
            "| --Seph|Chelsea Hotel - L...|    1|\n",
            "+-------+--------------------+-----+\n",
            "only showing top 20 rows\n",
            "\n"
          ]
        }
      ]
    },
    {
      "cell_type": "code",
      "source": [
        "indexer=[StringIndexer(inputCol=col,outputCol=col+\"_index\").setHandleInvalid(\"skip\").fit(df_listenings_agg) for col in list(set(df_listenings_agg.columns)-set([\"count\"]))]"
      ],
      "metadata": {
        "id": "f0U9IXNQTPMN"
      },
      "execution_count": null,
      "outputs": []
    },
    {
      "cell_type": "code",
      "source": [
        "pipeline=Pipeline(stages=indexer)"
      ],
      "metadata": {
        "id": "ArAGm21wUgO6"
      },
      "execution_count": null,
      "outputs": []
    },
    {
      "cell_type": "code",
      "source": [
        "data=pipeline.fit(df_listenings_agg).transform(df_listenings_agg)"
      ],
      "metadata": {
        "id": "kfUm8l0-VcP8"
      },
      "execution_count": null,
      "outputs": []
    },
    {
      "cell_type": "code",
      "source": [
        "data.show()"
      ],
      "metadata": {
        "colab": {
          "base_uri": "https://localhost:8080/"
        },
        "id": "T2dnqbSLVssh",
        "outputId": "fa249497-26a3-4dda-fe58-f02fe78e7881"
      },
      "execution_count": null,
      "outputs": [
        {
          "output_type": "stream",
          "name": "stdout",
          "text": [
            "+-------+--------------------+-----+-----------+-------------+\n",
            "|user_id|               track|count|track_index|user_id_index|\n",
            "+-------+--------------------+-----+-----------+-------------+\n",
            "| --Seph|          Nightmares|    1|    10600.0|         69.0|\n",
            "| --Seph|Virus (Luke Fair ...|    1|    15893.0|         69.0|\n",
            "| --Seph|Airplanes [feat H...|    1|      521.0|         69.0|\n",
            "| --Seph|Belina (Original ...|    1|     3280.0|         69.0|\n",
            "| --Seph|              Monday|    1|      334.0|         69.0|\n",
            "| --Seph|Hungarian Dance No 5|    1|     7555.0|         69.0|\n",
            "| --Seph|       Life On Mars?|    1|     1164.0|         69.0|\n",
            "| --Seph|  California Waiting|    1|      195.0|         69.0|\n",
            "| --Seph|       Phantom Pt II|    1|     1378.0|         69.0|\n",
            "| --Seph|   Summa for Strings|    1|    13737.0|         69.0|\n",
            "| --Seph|      Hour for magic|    2|     7492.0|         69.0|\n",
            "| --Seph|Hungarian Rhapsod...|    1|     7556.0|         69.0|\n",
            "| --Seph|     The Way We Were|    1|    14958.0|         69.0|\n",
            "| --Seph| Air on the G String|    1|     2456.0|         69.0|\n",
            "| --Seph|Vestido Estampado...|    1|    15847.0|         69.0|\n",
            "| --Seph|        Window Blues|    1|     1841.0|         69.0|\n",
            "| --Seph| White Winter Hymnal|    3|       59.0|         69.0|\n",
            "| --Seph|         The Embrace|    1|    14386.0|         69.0|\n",
            "| --Seph|          Paris 2004|    7|    11311.0|         69.0|\n",
            "| --Seph|Chelsea Hotel - L...|    1|     4183.0|         69.0|\n",
            "+-------+--------------------+-----+-----------+-------------+\n",
            "only showing top 20 rows\n",
            "\n"
          ]
        }
      ]
    },
    {
      "cell_type": "code",
      "source": [
        "data=data.select(\"user_id_index\",\"track_index\",\"count\").orderBy(\"user_id_index\")"
      ],
      "metadata": {
        "id": "NA0io46BVuMa"
      },
      "execution_count": null,
      "outputs": []
    },
    {
      "cell_type": "code",
      "source": [
        "data.show()"
      ],
      "metadata": {
        "colab": {
          "base_uri": "https://localhost:8080/"
        },
        "id": "SgZH0sl_WnSp",
        "outputId": "a31b8192-7454-44ef-b871-0acd86868c21"
      },
      "execution_count": null,
      "outputs": [
        {
          "output_type": "stream",
          "name": "stdout",
          "text": [
            "+-------------+-----------+-----+\n",
            "|user_id_index|track_index|count|\n",
            "+-------------+-----------+-----+\n",
            "|          0.0|    10628.0|    1|\n",
            "|          0.0|     3338.0|    1|\n",
            "|          0.0|    12168.0|    1|\n",
            "|          0.0|    11626.0|    2|\n",
            "|          0.0|    10094.0|    4|\n",
            "|          0.0|      427.0|    1|\n",
            "|          0.0|    16878.0|    1|\n",
            "|          0.0|    11722.0|    1|\n",
            "|          0.0|    15074.0|    1|\n",
            "|          0.0|     1359.0|    1|\n",
            "|          0.0|     5874.0|    1|\n",
            "|          0.0|    11184.0|    1|\n",
            "|          0.0|     2372.0|    2|\n",
            "|          0.0|    14316.0|    1|\n",
            "|          0.0|     5346.0|    1|\n",
            "|          0.0|    11194.0|    1|\n",
            "|          0.0|     2241.0|    1|\n",
            "|          0.0|     2864.0|    1|\n",
            "|          0.0|     2663.0|    4|\n",
            "|          0.0|     6064.0|    1|\n",
            "+-------------+-----------+-----+\n",
            "only showing top 20 rows\n",
            "\n"
          ]
        }
      ]
    },
    {
      "cell_type": "code",
      "source": [
        "(training,test)=data.randomSplit([0.5,0.5])"
      ],
      "metadata": {
        "id": "ELt3mxV4Wo1-"
      },
      "execution_count": null,
      "outputs": []
    },
    {
      "cell_type": "code",
      "source": [
        "USERID=\"user_id_index\"\n",
        "TRACK=\"track_index\"\n",
        "COUNT=\"count\""
      ],
      "metadata": {
        "id": "sXOmKhezXOCs"
      },
      "execution_count": null,
      "outputs": []
    },
    {
      "cell_type": "code",
      "source": [
        "als=ALS(maxIter=5,regParam=0.01,userCol=USERID,itemCol=TRACK,ratingCol=COUNT)"
      ],
      "metadata": {
        "id": "FnseJSSQX7Ak"
      },
      "execution_count": null,
      "outputs": []
    },
    {
      "cell_type": "code",
      "source": [
        "model=als.fit(training)"
      ],
      "metadata": {
        "id": "21YkZZziYdT0"
      },
      "execution_count": null,
      "outputs": []
    },
    {
      "cell_type": "code",
      "source": [
        "predictions=model.transform(test)"
      ],
      "metadata": {
        "id": "Xe3zPixQYod_"
      },
      "execution_count": null,
      "outputs": []
    },
    {
      "cell_type": "code",
      "source": [
        "recommendations=model.recommendForAllUsers(10)"
      ],
      "metadata": {
        "colab": {
          "base_uri": "https://localhost:8080/"
        },
        "id": "jkWBKhpyY7mg",
        "outputId": "36058626-e957-4d3d-e435-e7a5735f82fd"
      },
      "execution_count": null,
      "outputs": [
        {
          "output_type": "stream",
          "name": "stderr",
          "text": [
            "/usr/local/lib/python3.7/dist-packages/pyspark/sql/context.py:127: FutureWarning: Deprecated in 3.0.0. Use SparkSession.builder.getOrCreate() instead.\n",
            "  FutureWarning\n"
          ]
        }
      ]
    },
    {
      "cell_type": "code",
      "source": [
        "recommendations.show()"
      ],
      "metadata": {
        "colab": {
          "base_uri": "https://localhost:8080/"
        },
        "id": "WrX04UBDZD1r",
        "outputId": "77d65424-525c-4614-afff-52666530f085"
      },
      "execution_count": null,
      "outputs": [
        {
          "output_type": "stream",
          "name": "stdout",
          "text": [
            "+-------------+--------------------+\n",
            "|user_id_index|     recommendations|\n",
            "+-------------+--------------------+\n",
            "|            0|[{16908, 5.559372...|\n",
            "|            1|[{349, 10.30236},...|\n",
            "|            2|[{4460, 13.823327...|\n",
            "|            3|[{570, 9.78307}, ...|\n",
            "|            4|[{4460, 8.308568}...|\n",
            "|            5|[{4460, 9.2230425...|\n",
            "|            6|[{4460, 9.087256}...|\n",
            "|            7|[{16968, 9.971637...|\n",
            "|            8|[{101, 12.077073}...|\n",
            "|            9|[{0, 11.986891}, ...|\n",
            "|           10|[{14299, 8.863716...|\n",
            "|           11|[{14299, 8.730628...|\n",
            "|           12|[{3345, 7.7782593...|\n",
            "|           13|[{16908, 9.012111...|\n",
            "|           14|[{4460, 13.051082...|\n",
            "|           15|[{16908, 10.13164...|\n",
            "|           16|[{2380, 9.547393}...|\n",
            "|           17|[{349, 6.049583},...|\n",
            "|           18|[{16968, 10.41306...|\n",
            "|           19|[{16908, 11.28179...|\n",
            "+-------------+--------------------+\n",
            "only showing top 20 rows\n",
            "\n"
          ]
        }
      ]
    },
    {
      "cell_type": "code",
      "source": [
        "recommendations.take(1)"
      ],
      "metadata": {
        "colab": {
          "base_uri": "https://localhost:8080/"
        },
        "id": "b54di7dJZcL8",
        "outputId": "95564d0d-c2ea-4546-ae42-a0e7cbb28143"
      },
      "execution_count": null,
      "outputs": [
        {
          "output_type": "execute_result",
          "data": {
            "text/plain": [
              "[Row(user_id_index=0, recommendations=[Row(track_index=16908, rating=5.559372425079346), Row(track_index=11753, rating=5.326827049255371), Row(track_index=9099, rating=5.288575172424316), Row(track_index=5041, rating=4.9791436195373535), Row(track_index=165, rating=4.843062877655029), Row(track_index=4460, rating=4.674930095672607), Row(track_index=308, rating=4.263699531555176), Row(track_index=9498, rating=4.2621846199035645), Row(track_index=3345, rating=4.191688060760498), Row(track_index=1461, rating=3.9833147525787354)])]"
            ]
          },
          "metadata": {},
          "execution_count": 54
        }
      ]
    },
    {
      "cell_type": "code",
      "source": [
        ""
      ],
      "metadata": {
        "id": "UApL1fE0Zm0i"
      },
      "execution_count": null,
      "outputs": []
    }
  ]
}