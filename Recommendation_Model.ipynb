{
 "cells": [
  {
   "cell_type": "code",
   "execution_count": 1,
   "metadata": {
    "colab": {
     "base_uri": "https://localhost:8080/"
    },
    "id": "ojSUOnCoDxrw",
    "outputId": "a6f8cb0e-3004-4cc9-f634-f919b0c5709a"
   },
   "outputs": [
    {
     "name": "stdout",
     "output_type": "stream",
     "text": [
      "Drive already mounted at /content/drive; to attempt to forcibly remount, call drive.mount(\"/content/drive\", force_remount=True).\n"
     ]
    }
   ],
   "source": [
    "from google.colab import drive\n",
    "drive.mount('/content/drive')"
   ]
  },
  {
   "cell_type": "code",
   "execution_count": 3,
   "metadata": {
    "id": "V3SLR6TYEN7o"
   },
   "outputs": [],
   "source": [
    "import pandas as pd"
   ]
  },
  {
   "cell_type": "code",
   "execution_count": 7,
   "metadata": {
    "id": "b7ORm7dTFON2"
   },
   "outputs": [],
   "source": [
    "# df=pd.read_csv(\"/content/drive/MyDrive/listenings.csv\",encoding=\"unicode_escape\")"
   ]
  },
  {
   "cell_type": "code",
   "execution_count": 3,
   "metadata": {
    "colab": {
     "base_uri": "https://localhost:8080/"
    },
    "id": "6KHbCek8FTUL",
    "outputId": "2ced52b9-49f3-46d4-c250-6e7ce4d0b1b8"
   },
   "outputs": [
    {
     "name": "stdout",
     "output_type": "stream",
     "text": [
      "Collecting pyspark\n",
      "  Downloading pyspark-3.2.1.tar.gz (281.4 MB)\n",
      "\u001b[K     |████████████████████████████████| 281.4 MB 33 kB/s \n",
      "\u001b[?25hCollecting py4j==0.10.9.3\n",
      "  Downloading py4j-0.10.9.3-py2.py3-none-any.whl (198 kB)\n",
      "\u001b[K     |████████████████████████████████| 198 kB 58.1 MB/s \n",
      "\u001b[?25hBuilding wheels for collected packages: pyspark\n",
      "  Building wheel for pyspark (setup.py) ... \u001b[?25l\u001b[?25hdone\n",
      "  Created wheel for pyspark: filename=pyspark-3.2.1-py2.py3-none-any.whl size=281853642 sha256=237c4021ce10e4726ed9ece4170add56afcac32d80314bb2c38792902ada1dfd\n",
      "  Stored in directory: /root/.cache/pip/wheels/9f/f5/07/7cd8017084dce4e93e84e92efd1e1d5334db05f2e83bcef74f\n",
      "Successfully built pyspark\n",
      "Installing collected packages: py4j, pyspark\n",
      "Successfully installed py4j-0.10.9.3 pyspark-3.2.1\n"
     ]
    }
   ],
   "source": [
    "!pip install pyspark"
   ]
  },
  {
   "cell_type": "code",
   "execution_count": 4,
   "metadata": {
    "id": "1ryJs8DuFhtn"
   },
   "outputs": [],
   "source": [
    "from pyspark.sql import SparkSession"
   ]
  },
  {
   "cell_type": "code",
   "execution_count": 5,
   "metadata": {
    "id": "8EAj68gtG-8q"
   },
   "outputs": [],
   "source": [
    "from pyspark.sql.functions import count,desc,col,max"
   ]
  },
  {
   "cell_type": "code",
   "execution_count": 6,
   "metadata": {
    "id": "Yby1ntGFHehJ"
   },
   "outputs": [],
   "source": [
    "\n",
    "from pyspark.ml.feature import StringIndexer"
   ]
  },
  {
   "cell_type": "code",
   "execution_count": 7,
   "metadata": {
    "id": "NFTvvsntHoaY"
   },
   "outputs": [],
   "source": [
    "from pyspark.ml import Pipeline"
   ]
  },
  {
   "cell_type": "code",
   "execution_count": 9,
   "metadata": {
    "id": "Hyqr7iQwH71F"
   },
   "outputs": [],
   "source": [
    "from pyspark.ml.recommendation import ALS # Ecommerce use\n"
   ]
  },
  {
   "cell_type": "code",
   "execution_count": 10,
   "metadata": {
    "id": "7qbF39zOJCWe"
   },
   "outputs": [],
   "source": [
    "from pyspark.ml.tuning import TrainValidationSplit,ParamGridBuilder"
   ]
  },
  {
   "cell_type": "code",
   "execution_count": 11,
   "metadata": {
    "id": "yy6rXexAJnPp"
   },
   "outputs": [],
   "source": [
    "spark=SparkSession.builder.appName(\"trial\").getOrCreate()"
   ]
  },
  {
   "cell_type": "code",
   "execution_count": 13,
   "metadata": {
    "id": "8OxoPHuUKPMh"
   },
   "outputs": [],
   "source": [
    "file_path=\"/content/drive/MyDrive/listenings.csv\""
   ]
  },
  {
   "cell_type": "code",
   "execution_count": 14,
   "metadata": {
    "id": "KlZVDNiLK3ED"
   },
   "outputs": [],
   "source": [
    "df_listenings=spark.read.format(\"csv\").option(\"header\",True).option(\"inferSchema\",True).load(file_path)"
   ]
  },
  {
   "cell_type": "code",
   "execution_count": 15,
   "metadata": {
    "colab": {
     "base_uri": "https://localhost:8080/"
    },
    "id": "VO8uVBYuMFd1",
    "outputId": "bc47daa0-39c1-45e9-e19c-498ef2dfb22e"
   },
   "outputs": [
    {
     "name": "stdout",
     "output_type": "stream",
     "text": [
      "+-----------+-------------+--------------------+---------------+--------------------+\n",
      "|    user_id|         date|               track|         artist|               album|\n",
      "+-----------+-------------+--------------------+---------------+--------------------+\n",
      "|000Silenced|1299680100000|           Price Tag|       Jessie J|         Who You Are|\n",
      "|000Silenced|1299679920000|Price Tag (Acoust...|       Jessie J|           Price Tag|\n",
      "|000Silenced|1299679440000|Be Mine! (Ballad ...|          Robyn|            Be Mine!|\n",
      "|000Silenced|1299679200000|            Acapella|          Kelis|            Acapella|\n",
      "|000Silenced|1299675660000|   I'm Not Invisible|      The Tease|   I'm Not Invisible|\n",
      "|000Silenced|1297511400000|Bounce (Feat NORE...|       MSTRKRFT|         Fist of God|\n",
      "|000Silenced|1294498440000|Don't Stop The Mu...|        Rihanna|Addicted 2 Bassli...|\n",
      "|000Silenced|1292438340000|               ObZen|      Meshuggah|               ObZen|\n",
      "|000Silenced|1292437740000|   Yama's Messengers|         Gojira|The Way of All Flesh|\n",
      "|000Silenced|1292436360000|On the Brink of E...|   Napalm Death|Time Waits For No...|\n",
      "|000Silenced|1292436360000|On the Brink of E...|   Napalm Death|Time Waits For No...|\n",
      "|000Silenced|1292435940000|        In Deference|   Napalm Death|      Smear Campaign|\n",
      "|000Silenced|1292434920000|      Post(?)organic|    Decapitated|Organic Hallucinosis|\n",
      "|000Silenced|1292434560000|        Mind Feeders|   Dom & Roland| No Strings Attached|\n",
      "|000Silenced|1292434320000|Necrosadistic War...|Cannibal Corpse|                Kill|\n",
      "|000Silenced|1292365560000|     Dance All Night|   Dom & Roland|          Chronology|\n",
      "|000Silenced|1292365260000|          Late Night|   Dom & Roland|          Chronology|\n",
      "|000Silenced|1292365020000|          Freak Seen|   Dom & Roland|          Chronology|\n",
      "|000Silenced|1292364720000|Paradrenasite (Hi...|   Dom & Roland|          Chronology|\n",
      "|000Silenced|1292364300000|               Rhino|   Dom & Roland|          Chronology|\n",
      "+-----------+-------------+--------------------+---------------+--------------------+\n",
      "only showing top 20 rows\n",
      "\n"
     ]
    }
   ],
   "source": [
    "df_listenings.show()"
   ]
  },
  {
   "cell_type": "code",
   "execution_count": 17,
   "metadata": {
    "id": "fvNfsll8Mg2t"
   },
   "outputs": [],
   "source": [
    "number_of_rows=df_listenings.count()\n",
    "number_of_columns=len(df_listenings.columns)"
   ]
  },
  {
   "cell_type": "code",
   "execution_count": 18,
   "metadata": {
    "colab": {
     "base_uri": "https://localhost:8080/"
    },
    "id": "iBvuErEZNCxt",
    "outputId": "b89ea877-1082-4776-fa43-838edae3780f"
   },
   "outputs": [
    {
     "name": "stdout",
     "output_type": "stream",
     "text": [
      "14650594\n",
      "5\n"
     ]
    }
   ],
   "source": [
    "print(number_of_rows)\n",
    "print(number_of_columns)"
   ]
  },
  {
   "cell_type": "code",
   "execution_count": 19,
   "metadata": {
    "id": "7rnhp5w0NdJa"
   },
   "outputs": [],
   "source": [
    "df_listenings=df_listenings.drop(\"date\")"
   ]
  },
  {
   "cell_type": "code",
   "execution_count": 20,
   "metadata": {
    "colab": {
     "base_uri": "https://localhost:8080/"
    },
    "id": "fcZYkw_JOCqB",
    "outputId": "bfa29f84-91f8-4c02-9052-f71fa8fc6c01"
   },
   "outputs": [
    {
     "name": "stdout",
     "output_type": "stream",
     "text": [
      "+-----------+--------------------+---------------+--------------------+\n",
      "|    user_id|               track|         artist|               album|\n",
      "+-----------+--------------------+---------------+--------------------+\n",
      "|000Silenced|           Price Tag|       Jessie J|         Who You Are|\n",
      "|000Silenced|Price Tag (Acoust...|       Jessie J|           Price Tag|\n",
      "|000Silenced|Be Mine! (Ballad ...|          Robyn|            Be Mine!|\n",
      "|000Silenced|            Acapella|          Kelis|            Acapella|\n",
      "|000Silenced|   I'm Not Invisible|      The Tease|   I'm Not Invisible|\n",
      "|000Silenced|Bounce (Feat NORE...|       MSTRKRFT|         Fist of God|\n",
      "|000Silenced|Don't Stop The Mu...|        Rihanna|Addicted 2 Bassli...|\n",
      "|000Silenced|               ObZen|      Meshuggah|               ObZen|\n",
      "|000Silenced|   Yama's Messengers|         Gojira|The Way of All Flesh|\n",
      "|000Silenced|On the Brink of E...|   Napalm Death|Time Waits For No...|\n",
      "|000Silenced|On the Brink of E...|   Napalm Death|Time Waits For No...|\n",
      "|000Silenced|        In Deference|   Napalm Death|      Smear Campaign|\n",
      "|000Silenced|      Post(?)organic|    Decapitated|Organic Hallucinosis|\n",
      "|000Silenced|        Mind Feeders|   Dom & Roland| No Strings Attached|\n",
      "|000Silenced|Necrosadistic War...|Cannibal Corpse|                Kill|\n",
      "|000Silenced|     Dance All Night|   Dom & Roland|          Chronology|\n",
      "|000Silenced|          Late Night|   Dom & Roland|          Chronology|\n",
      "|000Silenced|          Freak Seen|   Dom & Roland|          Chronology|\n",
      "|000Silenced|Paradrenasite (Hi...|   Dom & Roland|          Chronology|\n",
      "|000Silenced|               Rhino|   Dom & Roland|          Chronology|\n",
      "+-----------+--------------------+---------------+--------------------+\n",
      "only showing top 20 rows\n",
      "\n"
     ]
    }
   ],
   "source": [
    "df_listenings.show()"
   ]
  },
  {
   "cell_type": "code",
   "execution_count": 21,
   "metadata": {
    "colab": {
     "base_uri": "https://localhost:8080/"
    },
    "id": "mj-Uhq9fOFmZ",
    "outputId": "7a4b13a2-07ca-4826-f17d-6145e10ff0cb"
   },
   "outputs": [
    {
     "data": {
      "text/plain": [
       "10605556"
      ]
     },
     "execution_count": 21,
     "metadata": {},
     "output_type": "execute_result"
    }
   ],
   "source": [
    "df_listenings.distinct().count()"
   ]
  },
  {
   "cell_type": "code",
   "execution_count": 22,
   "metadata": {
    "id": "tA_-hXRgOUU-"
   },
   "outputs": [],
   "source": [
    "df_listenings=df_listenings.na.drop()"
   ]
  },
  {
   "cell_type": "code",
   "execution_count": 23,
   "metadata": {
    "id": "5JTeEaZ3PC-K"
   },
   "outputs": [],
   "source": [
    "number_of_rows=df_listenings.count()\n",
    "number_of_columns=len(df_listenings.columns)"
   ]
  },
  {
   "cell_type": "code",
   "execution_count": 24,
   "metadata": {
    "colab": {
     "base_uri": "https://localhost:8080/"
    },
    "id": "Amb3zENjPKDt",
    "outputId": "022115c4-9601-4af8-ae42-8b6410b65508"
   },
   "outputs": [
    {
     "name": "stdout",
     "output_type": "stream",
     "text": [
      "13758905\n",
      "4\n"
     ]
    }
   ],
   "source": [
    "print(number_of_rows)\n",
    "print(number_of_columns)"
   ]
  },
  {
   "cell_type": "code",
   "execution_count": 25,
   "metadata": {
    "colab": {
     "base_uri": "https://localhost:8080/"
    },
    "id": "pdGQ0MLfPR-A",
    "outputId": "75c7883d-8682-4a72-b731-d8c2c79ad77a"
   },
   "outputs": [
    {
     "data": {
      "text/plain": [
       "891689"
      ]
     },
     "execution_count": 25,
     "metadata": {},
     "output_type": "execute_result"
    }
   ],
   "source": [
    "14650594-13758905"
   ]
  },
  {
   "cell_type": "code",
   "execution_count": 31,
   "metadata": {
    "id": "yB87I968Patx"
   },
   "outputs": [],
   "source": [
    "df_listenings_agg=df_listenings.select('user_id','track').groupby('user_id','track').agg(count(\"*\").alias(\"count\")).orderBy('user_id')"
   ]
  },
  {
   "cell_type": "code",
   "execution_count": 28,
   "metadata": {
    "colab": {
     "base_uri": "https://localhost:8080/"
    },
    "id": "5HjHlCP0R5Fn",
    "outputId": "d3aae018-48b0-423b-f9e3-7da8b88aa3dd"
   },
   "outputs": [
    {
     "name": "stdout",
     "output_type": "stream",
     "text": [
      "+-------+--------------------+-----+\n",
      "|user_id|               track|count|\n",
      "+-------+--------------------+-----+\n",
      "| --Seph|Chelsea Hotel - L...|    1|\n",
      "| --Seph|          Paris 2004|    7|\n",
      "| --Seph|Airplanes [feat H...|    1|\n",
      "| --Seph|              Monday|    1|\n",
      "| --Seph|         The Embrace|    1|\n",
      "| --Seph|Hungarian Dance No 5|    1|\n",
      "| --Seph|       Life On Mars?|    1|\n",
      "| --Seph|Belina (Original ...|    1|\n",
      "| --Seph| White Winter Hymnal|    3|\n",
      "| --Seph|               Leloo|    1|\n",
      "| --Seph|      Hour for magic|    2|\n",
      "| --Seph|Hungarian Rhapsod...|    1|\n",
      "| --Seph|     The Way We Were|    1|\n",
      "| --Seph| Air on the G String|    1|\n",
      "| --Seph|Vestido Estampado...|    1|\n",
      "| --Seph|        Window Blues|    1|\n",
      "| --Seph|  California Waiting|    1|\n",
      "| --Seph|       Phantom Pt II|    1|\n",
      "| --Seph|Virus (Luke Fair ...|    1|\n",
      "| --Seph|   Summa for Strings|    1|\n",
      "+-------+--------------------+-----+\n",
      "only showing top 20 rows\n",
      "\n"
     ]
    }
   ],
   "source": [
    "df_listenings_agg.show()"
   ]
  },
  {
   "cell_type": "code",
   "execution_count": 33,
   "metadata": {
    "id": "28RO5KDtSCyN"
   },
   "outputs": [],
   "source": [
    "df_listenings_agg=df_listenings_agg.limit(20000)"
   ]
  },
  {
   "cell_type": "code",
   "execution_count": 30,
   "metadata": {
    "colab": {
     "base_uri": "https://localhost:8080/"
    },
    "id": "wmsdNjliS2rY",
    "outputId": "a753dd81-a63c-4a58-c01a-47bb215424bb"
   },
   "outputs": [
    {
     "name": "stdout",
     "output_type": "stream",
     "text": [
      "+-------+--------------------+-----+\n",
      "|user_id|               track|count|\n",
      "+-------+--------------------+-----+\n",
      "| --Seph|               Leloo|    1|\n",
      "| --Seph|Virus (Luke Fair ...|    1|\n",
      "| --Seph|Airplanes [feat H...|    1|\n",
      "| --Seph|Belina (Original ...|    1|\n",
      "| --Seph|              Monday|    1|\n",
      "| --Seph|Hungarian Dance No 5|    1|\n",
      "| --Seph|       Life On Mars?|    1|\n",
      "| --Seph|  California Waiting|    1|\n",
      "| --Seph|       Phantom Pt II|    1|\n",
      "| --Seph|   Summa for Strings|    1|\n",
      "| --Seph|      Hour for magic|    2|\n",
      "| --Seph|Hungarian Rhapsod...|    1|\n",
      "| --Seph|     The Way We Were|    1|\n",
      "| --Seph| Air on the G String|    1|\n",
      "| --Seph|Vestido Estampado...|    1|\n",
      "| --Seph|        Window Blues|    1|\n",
      "| --Seph| White Winter Hymnal|    3|\n",
      "| --Seph|         The Embrace|    1|\n",
      "| --Seph|          Paris 2004|    7|\n",
      "| --Seph|Chelsea Hotel - L...|    1|\n",
      "+-------+--------------------+-----+\n",
      "only showing top 20 rows\n",
      "\n"
     ]
    }
   ],
   "source": [
    "df_listenings_agg.show()"
   ]
  },
  {
   "cell_type": "code",
   "execution_count": 34,
   "metadata": {
    "id": "f0U9IXNQTPMN"
   },
   "outputs": [],
   "source": [
    "indexer=[StringIndexer(inputCol=col,outputCol=col+\"_index\").setHandleInvalid(\"skip\").fit(df_listenings_agg) for col in list(set(df_listenings_agg.columns)-set([\"count\"]))]"
   ]
  },
  {
   "cell_type": "code",
   "execution_count": 35,
   "metadata": {
    "id": "ArAGm21wUgO6"
   },
   "outputs": [],
   "source": [
    "pipeline=Pipeline(stages=indexer)"
   ]
  },
  {
   "cell_type": "code",
   "execution_count": 37,
   "metadata": {
    "id": "kfUm8l0-VcP8"
   },
   "outputs": [],
   "source": [
    "data=pipeline.fit(df_listenings_agg).transform(df_listenings_agg)"
   ]
  },
  {
   "cell_type": "code",
   "execution_count": 38,
   "metadata": {
    "colab": {
     "base_uri": "https://localhost:8080/"
    },
    "id": "T2dnqbSLVssh",
    "outputId": "fa249497-26a3-4dda-fe58-f02fe78e7881"
   },
   "outputs": [
    {
     "name": "stdout",
     "output_type": "stream",
     "text": [
      "+-------+--------------------+-----+-----------+-------------+\n",
      "|user_id|               track|count|track_index|user_id_index|\n",
      "+-------+--------------------+-----+-----------+-------------+\n",
      "| --Seph|          Nightmares|    1|    10600.0|         69.0|\n",
      "| --Seph|Virus (Luke Fair ...|    1|    15893.0|         69.0|\n",
      "| --Seph|Airplanes [feat H...|    1|      521.0|         69.0|\n",
      "| --Seph|Belina (Original ...|    1|     3280.0|         69.0|\n",
      "| --Seph|              Monday|    1|      334.0|         69.0|\n",
      "| --Seph|Hungarian Dance No 5|    1|     7555.0|         69.0|\n",
      "| --Seph|       Life On Mars?|    1|     1164.0|         69.0|\n",
      "| --Seph|  California Waiting|    1|      195.0|         69.0|\n",
      "| --Seph|       Phantom Pt II|    1|     1378.0|         69.0|\n",
      "| --Seph|   Summa for Strings|    1|    13737.0|         69.0|\n",
      "| --Seph|      Hour for magic|    2|     7492.0|         69.0|\n",
      "| --Seph|Hungarian Rhapsod...|    1|     7556.0|         69.0|\n",
      "| --Seph|     The Way We Were|    1|    14958.0|         69.0|\n",
      "| --Seph| Air on the G String|    1|     2456.0|         69.0|\n",
      "| --Seph|Vestido Estampado...|    1|    15847.0|         69.0|\n",
      "| --Seph|        Window Blues|    1|     1841.0|         69.0|\n",
      "| --Seph| White Winter Hymnal|    3|       59.0|         69.0|\n",
      "| --Seph|         The Embrace|    1|    14386.0|         69.0|\n",
      "| --Seph|          Paris 2004|    7|    11311.0|         69.0|\n",
      "| --Seph|Chelsea Hotel - L...|    1|     4183.0|         69.0|\n",
      "+-------+--------------------+-----+-----------+-------------+\n",
      "only showing top 20 rows\n",
      "\n"
     ]
    }
   ],
   "source": [
    "data.show()"
   ]
  },
  {
   "cell_type": "code",
   "execution_count": 39,
   "metadata": {
    "id": "NA0io46BVuMa"
   },
   "outputs": [],
   "source": [
    "data=data.select(\"user_id_index\",\"track_index\",\"count\").orderBy(\"user_id_index\")"
   ]
  },
  {
   "cell_type": "code",
   "execution_count": 40,
   "metadata": {
    "colab": {
     "base_uri": "https://localhost:8080/"
    },
    "id": "SgZH0sl_WnSp",
    "outputId": "a31b8192-7454-44ef-b871-0acd86868c21"
   },
   "outputs": [
    {
     "name": "stdout",
     "output_type": "stream",
     "text": [
      "+-------------+-----------+-----+\n",
      "|user_id_index|track_index|count|\n",
      "+-------------+-----------+-----+\n",
      "|          0.0|    10628.0|    1|\n",
      "|          0.0|     3338.0|    1|\n",
      "|          0.0|    12168.0|    1|\n",
      "|          0.0|    11626.0|    2|\n",
      "|          0.0|    10094.0|    4|\n",
      "|          0.0|      427.0|    1|\n",
      "|          0.0|    16878.0|    1|\n",
      "|          0.0|    11722.0|    1|\n",
      "|          0.0|    15074.0|    1|\n",
      "|          0.0|     1359.0|    1|\n",
      "|          0.0|     5874.0|    1|\n",
      "|          0.0|    11184.0|    1|\n",
      "|          0.0|     2372.0|    2|\n",
      "|          0.0|    14316.0|    1|\n",
      "|          0.0|     5346.0|    1|\n",
      "|          0.0|    11194.0|    1|\n",
      "|          0.0|     2241.0|    1|\n",
      "|          0.0|     2864.0|    1|\n",
      "|          0.0|     2663.0|    4|\n",
      "|          0.0|     6064.0|    1|\n",
      "+-------------+-----------+-----+\n",
      "only showing top 20 rows\n",
      "\n"
     ]
    }
   ],
   "source": [
    "data.show()"
   ]
  },
  {
   "cell_type": "code",
   "execution_count": 41,
   "metadata": {
    "id": "ELt3mxV4Wo1-"
   },
   "outputs": [],
   "source": [
    "(training,test)=data.randomSplit([0.5,0.5])"
   ]
  },
  {
   "cell_type": "code",
   "execution_count": 42,
   "metadata": {
    "id": "sXOmKhezXOCs"
   },
   "outputs": [],
   "source": [
    "USERID=\"user_id_index\"\n",
    "TRACK=\"track_index\"\n",
    "COUNT=\"count\""
   ]
  },
  {
   "cell_type": "code",
   "execution_count": 55,
   "metadata": {
    "id": "FnseJSSQX7Ak"
   },
   "outputs": [],
   "source": [
    "als=ALS(maxIter=5,regParam=0.01,userCol=USERID,itemCol=TRACK,ratingCol=COUNT)"
   ]
  },
  {
   "cell_type": "code",
   "execution_count": 47,
   "metadata": {
    "id": "21YkZZziYdT0"
   },
   "outputs": [],
   "source": [
    "model=als.fit(training)"
   ]
  },
  {
   "cell_type": "code",
   "execution_count": 48,
   "metadata": {
    "id": "Xe3zPixQYod_"
   },
   "outputs": [],
   "source": [
    "predictions=model.transform(test)"
   ]
  },
  {
   "cell_type": "code",
   "execution_count": 49,
   "metadata": {
    "colab": {
     "base_uri": "https://localhost:8080/"
    },
    "id": "jkWBKhpyY7mg",
    "outputId": "36058626-e957-4d3d-e435-e7a5735f82fd"
   },
   "outputs": [
    {
     "name": "stderr",
     "output_type": "stream",
     "text": [
      "/usr/local/lib/python3.7/dist-packages/pyspark/sql/context.py:127: FutureWarning: Deprecated in 3.0.0. Use SparkSession.builder.getOrCreate() instead.\n",
      "  FutureWarning\n"
     ]
    }
   ],
   "source": [
    "recommendations=model.recommendForAllUsers(10)"
   ]
  },
  {
   "cell_type": "code",
   "execution_count": 53,
   "metadata": {
    "colab": {
     "base_uri": "https://localhost:8080/"
    },
    "id": "WrX04UBDZD1r",
    "outputId": "77d65424-525c-4614-afff-52666530f085"
   },
   "outputs": [
    {
     "name": "stdout",
     "output_type": "stream",
     "text": [
      "+-------------+--------------------+\n",
      "|user_id_index|     recommendations|\n",
      "+-------------+--------------------+\n",
      "|            0|[{16908, 5.559372...|\n",
      "|            1|[{349, 10.30236},...|\n",
      "|            2|[{4460, 13.823327...|\n",
      "|            3|[{570, 9.78307}, ...|\n",
      "|            4|[{4460, 8.308568}...|\n",
      "|            5|[{4460, 9.2230425...|\n",
      "|            6|[{4460, 9.087256}...|\n",
      "|            7|[{16968, 9.971637...|\n",
      "|            8|[{101, 12.077073}...|\n",
      "|            9|[{0, 11.986891}, ...|\n",
      "|           10|[{14299, 8.863716...|\n",
      "|           11|[{14299, 8.730628...|\n",
      "|           12|[{3345, 7.7782593...|\n",
      "|           13|[{16908, 9.012111...|\n",
      "|           14|[{4460, 13.051082...|\n",
      "|           15|[{16908, 10.13164...|\n",
      "|           16|[{2380, 9.547393}...|\n",
      "|           17|[{349, 6.049583},...|\n",
      "|           18|[{16968, 10.41306...|\n",
      "|           19|[{16908, 11.28179...|\n",
      "+-------------+--------------------+\n",
      "only showing top 20 rows\n",
      "\n"
     ]
    }
   ],
   "source": [
    "recommendations.show()"
   ]
  },
  {
   "cell_type": "code",
   "execution_count": 54,
   "metadata": {
    "colab": {
     "base_uri": "https://localhost:8080/"
    },
    "id": "b54di7dJZcL8",
    "outputId": "95564d0d-c2ea-4546-ae42-a0e7cbb28143"
   },
   "outputs": [
    {
     "data": {
      "text/plain": [
       "[Row(user_id_index=0, recommendations=[Row(track_index=16908, rating=5.559372425079346), Row(track_index=11753, rating=5.326827049255371), Row(track_index=9099, rating=5.288575172424316), Row(track_index=5041, rating=4.9791436195373535), Row(track_index=165, rating=4.843062877655029), Row(track_index=4460, rating=4.674930095672607), Row(track_index=308, rating=4.263699531555176), Row(track_index=9498, rating=4.2621846199035645), Row(track_index=3345, rating=4.191688060760498), Row(track_index=1461, rating=3.9833147525787354)])]"
      ]
     },
     "execution_count": 54,
     "metadata": {},
     "output_type": "execute_result"
    }
   ],
   "source": [
    "recommendations.take(1)"
   ]
  },
  {
   "cell_type": "code",
   "execution_count": null,
   "metadata": {
    "id": "UApL1fE0Zm0i"
   },
   "outputs": [],
   "source": []
  }
 ],
 "metadata": {
  "colab": {
   "collapsed_sections": [],
   "name": "Recommendation Model.ipynb",
   "provenance": []
  },
  "kernelspec": {
   "display_name": "Python 3 (ipykernel)",
   "language": "python",
   "name": "python3"
  },
  "language_info": {
   "codemirror_mode": {
    "name": "ipython",
    "version": 3
   },
   "file_extension": ".py",
   "mimetype": "text/x-python",
   "name": "python",
   "nbconvert_exporter": "python",
   "pygments_lexer": "ipython3",
   "version": "3.10.0"
  }
 },
 "nbformat": 4,
 "nbformat_minor": 1
}
